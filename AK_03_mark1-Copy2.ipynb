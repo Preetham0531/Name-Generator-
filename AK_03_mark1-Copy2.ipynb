{
 "cells": [
  {
   "cell_type": "code",
   "execution_count": 1,
   "id": "1fd9d976-e743-4c7d-bb21-45148211cdf3",
   "metadata": {},
   "outputs": [],
   "source": [
    "import torch\n",
    "import torch.nn.functional as F \n",
    "import matplotlib.pyplot as plt \n",
    "%matplotlib inline "
   ]
  },
  {
   "cell_type": "code",
   "execution_count": 13,
   "id": "e349c9db-61fa-4c88-9a77-06dac44c18ed",
   "metadata": {},
   "outputs": [],
   "source": [
    "words = open('names.txt','r').read().splitlines()"
   ]
  },
  {
   "cell_type": "code",
   "execution_count": 14,
   "id": "13f73a3d-64bf-4fcd-aa6a-ed01b5e974dc",
   "metadata": {},
   "outputs": [
    {
     "data": {
      "text/plain": [
       "['emma', 'olivia', 'ava']"
      ]
     },
     "execution_count": 14,
     "metadata": {},
     "output_type": "execute_result"
    }
   ],
   "source": [
    "words[:3]"
   ]
  },
  {
   "cell_type": "code",
   "execution_count": 15,
   "id": "573c5cd1-7c33-49ce-8846-ac995fe1126a",
   "metadata": {},
   "outputs": [
    {
     "data": {
      "text/plain": [
       "32033"
      ]
     },
     "execution_count": 15,
     "metadata": {},
     "output_type": "execute_result"
    }
   ],
   "source": [
    "len(words)"
   ]
  },
  {
   "cell_type": "code",
   "execution_count": 19,
   "id": "f5c0833f-04c7-4e0c-99ac-9bcd8fe171bd",
   "metadata": {},
   "outputs": [
    {
     "name": "stdout",
     "output_type": "stream",
     "text": [
      "{1: 'a', 2: 'b', 3: 'c', 4: 'd', 5: 'e', 6: 'f', 7: 'g', 8: 'h', 9: 'i', 10: 'j', 11: 'k', 12: 'l', 13: 'm', 14: 'n', 15: 'o', 16: 'p', 17: 'q', 18: 'r', 19: 's', 20: 't', 21: 'u', 22: 'v', 23: 'w', 24: 'x', 25: 'y', 26: 'z', 0: '.'}\n"
     ]
    }
   ],
   "source": [
    "chars = sorted(list(set(''.join(words))))\n",
    "s_to_i = {s:i+1 for i,s in enumerate(chars)}\n",
    "s_to_i['.'] = 0\n",
    "i_to_s = {i:s for s,i in s_to_i.items()}\n",
    "print(i_to_s)"
   ]
  },
  {
   "cell_type": "code",
   "execution_count": 51,
   "id": "15c50043-2296-412f-a0e2-b90691544f10",
   "metadata": {},
   "outputs": [
    {
     "data": {
      "text/plain": [
       "[2, 3, 4, 5]"
      ]
     },
     "execution_count": 51,
     "metadata": {},
     "output_type": "execute_result"
    }
   ],
   "source": [
    "context = [1,2,3,4,52]\n",
    "context[1:]"
   ]
  },
  {
   "cell_type": "code",
   "execution_count": 159,
   "id": "70abe139-ef4d-42f6-87e3-6dc17029d91b",
   "metadata": {
    "scrolled": true
   },
   "outputs": [],
   "source": [
    "block_size = 3\n",
    "X, Y = [],[]\n",
    "\n",
    "for w in words:\n",
    "    # print(w)\n",
    "    context = [0] * block_size\n",
    "    for ch in w + '.':\n",
    "        ix = s_to_i[ch]\n",
    "        X.append(context)\n",
    "        Y.append(ix)\n",
    "        #print(''.join(i_to_s[i] for i in context),  '---->', i_to_s[ix])\n",
    "        context = context[1:] + [ix]\n",
    "\n",
    "X = torch.tensor(X)\n",
    "Y = torch.tensor(Y)"
   ]
  },
  {
   "cell_type": "code",
   "execution_count": 228,
   "id": "907c688f-fb96-4c1a-8c2e-b002e14c532d",
   "metadata": {},
   "outputs": [
    {
     "name": "stdout",
     "output_type": "stream",
     "text": [
      "torch.Size([182580, 3]) torch.Size([182580])\n",
      "torch.Size([22767, 3]) torch.Size([22767])\n",
      "torch.Size([22799, 3]) torch.Size([22799])\n"
     ]
    }
   ],
   "source": [
    "def build_dataset(words):\n",
    "    block_size = 3\n",
    "    X, Y = [],[]\n",
    "    for w in words:\n",
    "        context = [0] * block_size\n",
    "        for ch in w + '.':\n",
    "            ix = s_to_i[ch]\n",
    "            X.append(context)\n",
    "            Y.append(ix)\n",
    "            context = context[1:] + [ix]\n",
    "\n",
    "    X = torch.tensor(X)\n",
    "    Y = torch.tensor(Y)\n",
    "    print(X.shape, Y.shape)\n",
    "    return X, Y\n",
    "\n",
    "import random\n",
    "random.seed(42)\n",
    "random.shuffle(words)\n",
    "n1 = int(0.8*len(words))\n",
    "n2 = int(0.9*len(words))\n",
    "\n",
    "X_train, Y_train = build_dataset(words[:n1])\n",
    "X_val, Y_val = build_dataset(words[n1:n2])\n",
    "X_test, Y_test = build_dataset(words[n2:])"
   ]
  },
  {
   "cell_type": "code",
   "execution_count": 229,
   "id": "26c0daff-fb24-42d9-8071-7547d63d2f00",
   "metadata": {},
   "outputs": [
    {
     "data": {
      "text/plain": [
       "(torch.Size([228146, 3]), torch.int64, torch.Size([228146]), torch.int64)"
      ]
     },
     "execution_count": 229,
     "metadata": {},
     "output_type": "execute_result"
    }
   ],
   "source": [
    "X.shape, X.dtype, Y.shape, Y.dtype"
   ]
  },
  {
   "cell_type": "code",
   "execution_count": 230,
   "id": "2ce0753e-c2f5-478c-a9d8-1eadeb0e6a55",
   "metadata": {
    "scrolled": true
   },
   "outputs": [
    {
     "data": {
      "text/plain": [
       "tensor([[ 0,  0,  0],\n",
       "        [ 0,  0,  5],\n",
       "        [ 0,  5, 13],\n",
       "        ...,\n",
       "        [26, 26, 25],\n",
       "        [26, 25, 26],\n",
       "        [25, 26, 24]])"
      ]
     },
     "execution_count": 230,
     "metadata": {},
     "output_type": "execute_result"
    }
   ],
   "source": [
    "X"
   ]
  },
  {
   "cell_type": "code",
   "execution_count": 162,
   "id": "45f98918-b6d6-461a-9678-be648fb2044a",
   "metadata": {},
   "outputs": [],
   "source": [
    "C = torch.randn((27,2))"
   ]
  },
  {
   "cell_type": "code",
   "execution_count": 163,
   "id": "a92ca48a-8c18-4990-b555-d10bdb99203c",
   "metadata": {
    "scrolled": true
   },
   "outputs": [
    {
     "data": {
      "text/plain": [
       "tensor([[-0.3207, -0.3366],\n",
       "        [-0.0319, -0.1467],\n",
       "        [ 2.2066,  0.2960],\n",
       "        [ 0.3653,  0.0202],\n",
       "        [ 0.6795, -2.0261],\n",
       "        [-0.8609, -0.9561],\n",
       "        [-1.2430,  0.2544],\n",
       "        [ 0.2845,  0.4558],\n",
       "        [ 1.6230, -0.6897],\n",
       "        [-0.4474,  0.1139],\n",
       "        [ 0.0804, -1.6402],\n",
       "        [-2.3128,  0.7252],\n",
       "        [ 0.8326, -0.4946],\n",
       "        [ 0.8788, -0.9745],\n",
       "        [-0.5566,  0.2068],\n",
       "        [ 0.8038,  0.2519],\n",
       "        [-0.0973, -0.2361],\n",
       "        [ 1.2008, -0.6902],\n",
       "        [-0.8421, -0.7366],\n",
       "        [ 1.3062, -0.5502],\n",
       "        [ 0.4647, -1.0651],\n",
       "        [-0.5665,  0.3142],\n",
       "        [ 3.5717, -1.2011],\n",
       "        [ 0.5923,  2.1934],\n",
       "        [ 1.5266, -1.3062],\n",
       "        [ 0.3545,  1.3580],\n",
       "        [-0.5587,  0.8910]])"
      ]
     },
     "execution_count": 163,
     "metadata": {},
     "output_type": "execute_result"
    }
   ],
   "source": [
    "C"
   ]
  },
  {
   "cell_type": "code",
   "execution_count": 164,
   "id": "a1d810aa-2d9b-408c-8f31-bb7fd04b07bb",
   "metadata": {
    "scrolled": true
   },
   "outputs": [
    {
     "data": {
      "text/plain": [
       "tensor([[[-0.3207, -0.3366],\n",
       "         [-0.3207, -0.3366],\n",
       "         [-0.3207, -0.3366]],\n",
       "\n",
       "        [[-0.3207, -0.3366],\n",
       "         [-0.3207, -0.3366],\n",
       "         [-0.8609, -0.9561]],\n",
       "\n",
       "        [[-0.3207, -0.3366],\n",
       "         [-0.8609, -0.9561],\n",
       "         [ 0.8788, -0.9745]],\n",
       "\n",
       "        ...,\n",
       "\n",
       "        [[-0.5587,  0.8910],\n",
       "         [-0.5587,  0.8910],\n",
       "         [ 0.3545,  1.3580]],\n",
       "\n",
       "        [[-0.5587,  0.8910],\n",
       "         [ 0.3545,  1.3580],\n",
       "         [-0.5587,  0.8910]],\n",
       "\n",
       "        [[ 0.3545,  1.3580],\n",
       "         [-0.5587,  0.8910],\n",
       "         [ 1.5266, -1.3062]]])"
      ]
     },
     "execution_count": 164,
     "metadata": {},
     "output_type": "execute_result"
    }
   ],
   "source": [
    "C[X]"
   ]
  },
  {
   "cell_type": "code",
   "execution_count": 165,
   "id": "34e70cb9-91b2-4701-81c3-16c2c15c836f",
   "metadata": {},
   "outputs": [
    {
     "data": {
      "text/plain": [
       "torch.Size([228146, 3, 2])"
      ]
     },
     "execution_count": 165,
     "metadata": {},
     "output_type": "execute_result"
    }
   ],
   "source": [
    "C[X].shape"
   ]
  },
  {
   "cell_type": "code",
   "execution_count": 188,
   "id": "e229936b-fb81-4a89-9ae9-b07b7f651e2f",
   "metadata": {},
   "outputs": [
    {
     "data": {
      "text/plain": [
       "(torch.Size([228146, 3]), torch.Size([228146]))"
      ]
     },
     "execution_count": 188,
     "metadata": {},
     "output_type": "execute_result"
    }
   ],
   "source": [
    "X.shape, Y.shape"
   ]
  },
  {
   "cell_type": "code",
   "execution_count": 290,
   "id": "37d3131b-59f7-48b8-88b7-8ea732fbf125",
   "metadata": {},
   "outputs": [],
   "source": [
    "g = torch.Generator().manual_seed(2147483647)\n",
    "C = torch.randn((27,10), generator = g)\n",
    "W1 = torch.rand((30 ,200), generator = g)\n",
    "b1 = torch.rand(200, generator = g)\n",
    "W2 = torch.rand((200,27), generator = g)\n",
    "b2 = torch.rand(27, generator = g)\n",
    "parameters = [C, W1, b1, W2, b2]"
   ]
  },
  {
   "cell_type": "code",
   "execution_count": 291,
   "id": "4e8c7650-6938-42cf-8b0b-67547a27b2fd",
   "metadata": {},
   "outputs": [
    {
     "data": {
      "text/plain": [
       "11897"
      ]
     },
     "execution_count": 291,
     "metadata": {},
     "output_type": "execute_result"
    }
   ],
   "source": [
    "sum(p.nelement() for p in parameters)"
   ]
  },
  {
   "cell_type": "code",
   "execution_count": 292,
   "id": "61994045-d887-4e70-addd-98c2abb28de4",
   "metadata": {},
   "outputs": [],
   "source": [
    "for p in parameters :\n",
    "    p.requires_grad = True"
   ]
  },
  {
   "cell_type": "code",
   "execution_count": 293,
   "id": "c27fcbd8-ee5c-4833-926a-5ac4022fc515",
   "metadata": {},
   "outputs": [
    {
     "name": "stdout",
     "output_type": "stream",
     "text": [
      "4.22079610824585\n"
     ]
    }
   ],
   "source": [
    " for i in range(10):\n",
    "    # forward propagation \n",
    "    \n",
    "    emb = C[X_train] #shape = 32*3*2\n",
    "    emb = emb.view(-1,30) #shape = 32*6\n",
    "    h = torch.tanh(emb @ W1 + b1) #shape = 32*100\n",
    "    logits = h @ W2 + b2 #shape = 32*27\n",
    "    \n",
    "    # loss 1\n",
    "    # counts = logits.exp()\n",
    "    # prob = counts/counts.sum(1, keepdim=True)\n",
    "    # loss = -prob[torch.arange(32), Y].log().mean()\n",
    "    \n",
    "    # loss 2 \n",
    "    loss = F.cross_entropy(logits, Y_train)\n",
    "    \n",
    "    # backward propagation \n",
    "    for p in parameters:\n",
    "        p.grad = None\n",
    "    loss.backward()\n",
    "    \n",
    "    for p in parameters: \n",
    "        p.data += -0.1 * p.grad\n",
    "\n",
    "print(loss.item())"
   ]
  },
  {
   "cell_type": "code",
   "execution_count": 294,
   "id": "c54fe9a9-0282-4ec9-ab3a-a175cbcd65b1",
   "metadata": {},
   "outputs": [],
   "source": [
    "lre =  torch.linspace(-3, 0, 100000)\n",
    "lrs =  10**lre"
   ]
  },
  {
   "cell_type": "code",
   "execution_count": 306,
   "id": "b53c979a-1c99-4c3e-ab1e-af7c6ff65b9e",
   "metadata": {},
   "outputs": [
    {
     "name": "stdout",
     "output_type": "stream",
     "text": [
      "2.1157162189483643\n"
     ]
    }
   ],
   "source": [
    "lri = []\n",
    "loss_i = []\n",
    "step_i = []\n",
    "\n",
    "for i in range(50000):\n",
    "    \n",
    "    # it takes lot of time to process 200000 words, thats why we create mini batches.\n",
    "    # mini batch size = 32\n",
    "    # minibatch construction \n",
    "    ix = torch.randint(0, X_train.shape[0],(32,))\n",
    "    \n",
    "    # forward propagation \n",
    "    \n",
    "    emb = C[X_train[ix]] #shape = 32*3*2\n",
    "    emb = emb.view(-1,30) #shape = 32*6\n",
    "    h = torch.tanh(emb @ W1 + b1) #shape = 32*100\n",
    "    logits = h @ W2 + b2 #shape = 32*27\n",
    "    \n",
    "    # loss 1\n",
    "    # counts = logits.exp()\n",
    "    # prob = counts/counts.sum(1, keepdim=True)\n",
    "    # loss = -prob[torch.arange(32), Y].log().mean()\n",
    "    \n",
    "    # loss 2 \n",
    "    loss = F.cross_entropy(logits, Y_train[ix])\n",
    "    \n",
    "    # backward propagation \n",
    "    for p in parameters:\n",
    "        p.grad = None\n",
    "    loss.backward()\n",
    "\n",
    "    lr = 0.009\n",
    "    for p in parameters: \n",
    "        p.data += -lr * p.grad\n",
    "\n",
    "    step_i.append(i)\n",
    "    #lri.append(lre[i])\n",
    "    loss_i.append(loss.log().item())\n",
    "    \n",
    "print(loss.item())"
   ]
  },
  {
   "cell_type": "markdown",
   "id": "39bf2916-4d4c-4635-8db3-295c757665b8",
   "metadata": {},
   "source": [
    "### To Gain more accuracy divide dataset into train, validation and test sets "
   ]
  },
  {
   "cell_type": "code",
   "execution_count": 308,
   "id": "8abd4fde-0da9-4ae9-becb-0a3a70ea048e",
   "metadata": {},
   "outputs": [
    {
     "data": {
      "text/plain": [
       "tensor(2.1219, grad_fn=<NllLossBackward0>)"
      ]
     },
     "execution_count": 308,
     "metadata": {},
     "output_type": "execute_result"
    }
   ],
   "source": [
    "emb = C[X_val]\n",
    "h = torch.tanh(emb.view(-1,30) @ W1 + b1)\n",
    "logits = h@W2+b2\n",
    "loss = F.cross_entropy(logits, Y_val)\n",
    "loss"
   ]
  },
  {
   "cell_type": "code",
   "execution_count": 309,
   "id": "5f9100d9-5f9c-45dc-bb7c-be5d5e2c1268",
   "metadata": {},
   "outputs": [
    {
     "data": {
      "text/plain": [
       "[<matplotlib.lines.Line2D at 0x11b121fd0>]"
      ]
     },
     "execution_count": 309,
     "metadata": {},
     "output_type": "execute_result"
    },
    {
     "data": {
      "image/png": "[encoded data removed]",
      "text/plain": [
       "<Figure size 640x480 with 1 Axes>"
      ]
     },
     "metadata": {},
     "output_type": "display_data"
    }
   ],
   "source": [
    "plt.plot(step_i, loss_i)"
   ]
  },
  {
   "cell_type": "markdown",
   "id": "06f3e355-6a94-46dd-9243-a1b010e19622",
   "metadata": {},
   "source": [
    "### GENERATING NAMES, OUR MAIN OBJECTIVE "
   ]
  },
  {
   "cell_type": "code",
   "execution_count": 311,
   "id": "cf1f580d-2461-478c-adca-59cfcedc63c0",
   "metadata": {},
   "outputs": [
    {
     "name": "stdout",
     "output_type": "stream",
     "text": [
      "cah.\n",
      "cartaryn.\n",
      "colekhashdakia.\n",
      "rah.\n",
      "faree.\n",
      "bayla.\n",
      "beller.\n",
      "sayla.\n",
      "avaree.\n",
      "amid.\n",
      "juvah.\n",
      "moh.\n",
      "kahedi.\n",
      "cashleeya.\n",
      "war.\n",
      "fye.\n",
      "niel.\n",
      "daphannzion.\n",
      "ash.\n",
      "mayri.\n"
     ]
    }
   ],
   "source": [
    "g = torch.Generator().manual_seed(2146483657)\n",
    "\n",
    "for i in range(20):\n",
    "    out = []\n",
    "    context = [0] * block_size\n",
    "    while True: \n",
    "        emb = C[torch.tensor([context])] # (1, block_size, d)\n",
    "        h = torch.tanh(emb.view(1,-1) @ W1 + b1)\n",
    "        logits = h @ W2 + b2 \n",
    "        probs = F.softmax(logits, dim=1)\n",
    "        ix = torch.multinomial(probs, num_samples = 1, generator = g).item()\n",
    "        context = context[1:] + [ix]\n",
    "        out.append(ix)\n",
    "        if ix == 0:\n",
    "            break\n",
    "\n",
    "    print(''.join(i_to_s[i] for i in out))"
   ]
  },
  {
   "cell_type": "code",
   "execution_count": null,
   "id": "f76dea58-18ae-4c81-99b2-5926de39c877",
   "metadata": {},
   "outputs": [],
   "source": [
    " "
   ]
  }
 ],
 "metadata": {
  "kernelspec": {
   "display_name": "Python 3 (ipykernel)",
   "language": "python",
   "name": "python3"
  },
  "language_info": {
   "codemirror_mode": {
    "name": "ipython",
    "version": 3
   },
   "file_extension": ".py",
   "mimetype": "text/x-python",
   "name": "python",
   "nbconvert_exporter": "python",
   "pygments_lexer": "ipython3",
   "version": "3.11.7"
  }
 },
 "nbformat": 4,
 "nbformat_minor": 5
}
